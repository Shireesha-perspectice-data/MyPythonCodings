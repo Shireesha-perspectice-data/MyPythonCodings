{
 "cells": [
  {
   "cell_type": "markdown",
   "id": "dc57b7b5",
   "metadata": {},
   "source": [
    "# Q. To find the Simple Interest (S.I)"
   ]
  },
  {
   "cell_type": "code",
   "execution_count": 8,
   "id": "41dae93c",
   "metadata": {},
   "outputs": [
    {
     "name": "stdout",
     "output_type": "stream",
     "text": [
      "enter the principle:6500000\n",
      "enter the how many years:5\n",
      "enter the rate of intrest int type:3\n"
     ]
    },
    {
     "data": {
      "text/plain": [
       "('S.I:', 975000.0, 'Amount:', 8125000.0)"
      ]
     },
     "execution_count": 8,
     "metadata": {},
     "output_type": "execute_result"
    }
   ],
   "source": [
    "#simple interest is based on the principal amount of a loan or deposit\n",
    "'''\n",
    "give like that 250,2R,2 year\n",
    "\n",
    "A- Total Amount\n",
    "P- Initial Principal Balence\n",
    "T-Time (in year)\n",
    "R-Rate of Interest\n",
    "S.I(Simple Interest)=(principal*Time*Rate)/100  # here we want to S.I ,then we go this formula\n",
    "Total Amount=(S.I)+P\n",
    "\n",
    "'''\n",
    "P=int(input(\"enter the principle:\")) #here principal means Initial principal Balence\n",
    "T=int(input(\"enter the how many years:\"))  #Time (in year)\n",
    "R=int(input(\"enter the rate of intrest int type:\")) # here we can take Annual Interest rate\n",
    "def simple_intrest(P,T,R): #here difine the function with parameters\n",
    "    A=(P*T*T/100)+P   # the total Amount\n",
    "    return \"S.I:\", P*T*R/100,\"Amount:\",A; \n",
    "simple_intrest(P,T,R)"
   ]
  }
 ],
 "metadata": {
  "kernelspec": {
   "display_name": "Python 3 (ipykernel)",
   "language": "python",
   "name": "python3"
  },
  "language_info": {
   "codemirror_mode": {
    "name": "ipython",
    "version": 3
   },
   "file_extension": ".py",
   "mimetype": "text/x-python",
   "name": "python",
   "nbconvert_exporter": "python",
   "pygments_lexer": "ipython3",
   "version": "3.9.7"
  }
 },
 "nbformat": 4,
 "nbformat_minor": 5
}
