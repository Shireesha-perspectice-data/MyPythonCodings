{
 "cells": [
  {
   "cell_type": "markdown",
   "id": "f5b561c9",
   "metadata": {},
   "source": [
    "# Q. Write a program based on student marks  "
   ]
  },
  {
   "cell_type": "code",
   "execution_count": 6,
   "id": "46db6908",
   "metadata": {},
   "outputs": [
    {
     "name": "stdout",
     "output_type": "stream",
     "text": [
      "enter the student theory score:465\n",
      "enter the student practical score:543\n",
      "the rank 50400.0\n",
      "improve your skills 465 543\n"
     ]
    }
   ],
   "source": [
    "theory_score=int(input(\"enter the student theory score:\"))\n",
    "practical_score=int(input(\"enter the student practical score:\"))\n",
    "def score(result):\n",
    "    #result=theory_score+practical_score\n",
    "    if result==200:\n",
    "        print(\"extadinary,better luck:\",theory_score,practical_score)\n",
    "    if result < 200 and result > 150:\n",
    "        print(\"avarage student ,to got a A Grade:\" ,result, theory_score,practical_score)\n",
    "    if result %2==0:\n",
    "        print(\"the rank\",result/2*100)\n",
    "        if theory_score > 60 or practical_score > 50:\n",
    "            print(\"improve your skills\",theory_score,practical_score)\n",
    "        else:\n",
    "            print(\"better luck next level\")\n",
    "            \n",
    "    elif result < 150 and 100 < result:\n",
    "        print(\"you are the qualified only:\",result, theory_score,practical_score)\n",
    "    elif result < 100:\n",
    "        print(\"please consult the head of the manager:\",result,theory_score,practical_score)\n",
    "    else:\n",
    "        print(\"you are not attend the theory and practical:\",theory_score,practical_score)\n",
    "\n",
    "score(result=theory_score+practical_score)"
   ]
  },
  {
   "cell_type": "code",
   "execution_count": null,
   "id": "fa1a0aa4",
   "metadata": {},
   "outputs": [],
   "source": []
  }
 ],
 "metadata": {
  "kernelspec": {
   "display_name": "Python 3 (ipykernel)",
   "language": "python",
   "name": "python3"
  },
  "language_info": {
   "codemirror_mode": {
    "name": "ipython",
    "version": 3
   },
   "file_extension": ".py",
   "mimetype": "text/x-python",
   "name": "python",
   "nbconvert_exporter": "python",
   "pygments_lexer": "ipython3",
   "version": "3.9.7"
  }
 },
 "nbformat": 4,
 "nbformat_minor": 5
}
