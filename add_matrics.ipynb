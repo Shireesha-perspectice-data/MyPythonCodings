{
 "cells": [
  {
   "cell_type": "markdown",
   "id": "65905a6d",
   "metadata": {},
   "source": [
    "# Q. Write a program  to add the matrics."
   ]
  },
  {
   "cell_type": "code",
   "execution_count": 1,
   "id": "aacee229",
   "metadata": {},
   "outputs": [
    {
     "name": "stdout",
     "output_type": "stream",
     "text": [
      "[4, 6, 8]\n",
      "[4, 6, 8]\n",
      "[5, 7, 4]\n"
     ]
    }
   ],
   "source": [
    "#two matrics are add by use of nested loop\n",
    "x=[[1,2,3],[4,5,6],[4,7,1]]\n",
    "y=[[3,4,5],[0,1,2],[1,0,3]]\n",
    "result =[[0,0,0],[0,0,0],[0,0,0]]\n",
    "for i in range(len(x)):     # iterative through rows\n",
    "    for j in range (len(x[0])):    # iterative through column\n",
    "        result[i][j]=x[i][j]+y[i][j]\n",
    "for r in result:\n",
    "    print(r)\n",
    "    "
   ]
  }
 ],
 "metadata": {
  "kernelspec": {
   "display_name": "Python 3 (ipykernel)",
   "language": "python",
   "name": "python3"
  },
  "language_info": {
   "codemirror_mode": {
    "name": "ipython",
    "version": 3
   },
   "file_extension": ".py",
   "mimetype": "text/x-python",
   "name": "python",
   "nbconvert_exporter": "python",
   "pygments_lexer": "ipython3",
   "version": "3.9.7"
  }
 },
 "nbformat": 4,
 "nbformat_minor": 5
}
