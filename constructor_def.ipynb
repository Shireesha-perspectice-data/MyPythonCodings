{
 "cells": [
  {
   "cell_type": "markdown",
   "id": "401d3b6f",
   "metadata": {},
   "source": [
    "# Q. Explain about  the constructor, with example. "
   ]
  },
  {
   "cell_type": "markdown",
   "id": "dcd38c6f",
   "metadata": {},
   "source": [
    " # Class and Object¶\n",
    "    Class: \n",
    "      * A Class is a blueprint for the object\n",
    "       *we can think of a car with the lables.It contain the all details about the name,color,capacity ect.Based on these \n",
    "      description ,we study of the car.\n",
    "      here car is an Object\n",
    "            Eg: class car:\n",
    "                    pass\n",
    "       *here we use the Class Keyword to define an empty Class \"car\".From Class ,we construct instances,here        instance is a specific Object created from the particular Class.main example is ....class is built then object is built; building plan is the class(the blueprint of the objecct)/designing it means building plan  is the class,here house is the Object.the blueprint using the many objects are created.\n",
    "    Object:\n",
    "      *An Object is a instantiation of a class.When class is defined,only the description for the object is defined therefore ,no memory or storage is allocated.\n",
    "      Eg:  obj=parrot() # its called as object is created by the reference variable is obj\n",
    "                        #Or instantiation of object(class) /created a object "
   ]
  },
  {
   "cell_type": "code",
   "execution_count": 2,
   "id": "62775894",
   "metadata": {},
   "outputs": [],
   "source": [
    "#here class is the keyword;class name must be started to capital letters and don't start with numbers\n",
    "class Function:  #Function is the currect object and it also class name\n",
    "    pass           #nothing to execute \n",
    "obj=Function()   #instantiation of object or to creat a object with reference variable is  obj\n"
   ]
  },
  {
   "cell_type": "code",
   "execution_count": 3,
   "id": "609db050",
   "metadata": {},
   "outputs": [
    {
     "name": "stdout",
     "output_type": "stream",
     "text": [
      "hii\n",
      "the function\n"
     ]
    }
   ],
   "source": [
    "class Car:\n",
    "    x=34;\n",
    "    def __init__(self,dat):  #here creat a constructor with self keyword and parameter \n",
    "        self.datas=\"the function\";  #instance variable\n",
    "        self.dat=\"the method\"        # initialization means to assigning a some value\n",
    "        print(\"hii\")  # to print string statement\n",
    "an_instance=Car(\"w r u\")  # instantiating or creat an object by reference variable an_instance\n",
    "print(an_instance.datas)  #to print a instance variable/ instances \"datas\" by through the  car object "
   ]
  }
 ],
 "metadata": {
  "kernelspec": {
   "display_name": "Python 3 (ipykernel)",
   "language": "python",
   "name": "python3"
  },
  "language_info": {
   "codemirror_mode": {
    "name": "ipython",
    "version": 3
   },
   "file_extension": ".py",
   "mimetype": "text/x-python",
   "name": "python",
   "nbconvert_exporter": "python",
   "pygments_lexer": "ipython3",
   "version": "3.9.7"
  }
 },
 "nbformat": 4,
 "nbformat_minor": 5
}
