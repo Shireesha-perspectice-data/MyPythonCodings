{
 "cells": [
  {
   "cell_type": "markdown",
   "id": "0f4fff83",
   "metadata": {},
   "source": [
    "# Q.  Write the constructor program"
   ]
  },
  {
   "cell_type": "code",
   "execution_count": 1,
   "id": "17aa312f",
   "metadata": {},
   "outputs": [
    {
     "name": "stdout",
     "output_type": "stream",
     "text": [
      "56\n",
      "the constructor is a special type of object/function,constructor is the construct object.i.e instantiating an object.__init__method is invoke when an object is created from the class and its allows the class to initialize the instance variable/member of a class \n",
      "66\n",
      "23789\n"
     ]
    }
   ],
   "source": [
    "'''\n",
    "the constructor is a special type of object/function,constructor is the construct object.i.e is an instantiating an object.\n",
    "__init__method is invoke when an object is created from the class and its allows the class to initialize the instance variable/member of a class \")\n",
    "'''\n",
    "x=23789;  #globle variable\n",
    "class Car: #here creat a car class. here Car is a current object\n",
    "    x=20; # static variable means inside a class we are consider the static variable\n",
    "    def __init__(self):\n",
    "        self.x1=66;\n",
    "        self.x2=345;\n",
    "        print(\"the constructor is a special type of object/function,constructor is the construct object.i.e instantiating an object.__init__method is invoke when an object is created from the class and its allows the class to initialize the instance variable/member of a class \")\n",
    "    x=56;\n",
    "    print(x)\n",
    "#print(x)\n",
    "z=Car()  #inistantiating or created an object by reference variable z\n",
    "print(z.x1)  #to print instance variable x1 by using of object. instances mean related object values\n",
    "print(x)\n",
    "    "
   ]
  }
 ],
 "metadata": {
  "kernelspec": {
   "display_name": "Python 3 (ipykernel)",
   "language": "python",
   "name": "python3"
  },
  "language_info": {
   "codemirror_mode": {
    "name": "ipython",
    "version": 3
   },
   "file_extension": ".py",
   "mimetype": "text/x-python",
   "name": "python",
   "nbconvert_exporter": "python",
   "pygments_lexer": "ipython3",
   "version": "3.9.7"
  }
 },
 "nbformat": 4,
 "nbformat_minor": 5
}
