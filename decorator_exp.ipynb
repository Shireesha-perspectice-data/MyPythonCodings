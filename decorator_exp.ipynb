{
 "cells": [
  {
   "cell_type": "code",
   "execution_count": 1,
   "id": "dacf1b6e",
   "metadata": {},
   "outputs": [
    {
     "name": "stdout",
     "output_type": "stream",
     "text": [
      "helo..\n",
      "0.5\n",
      "HI tHIS\n",
      "[0, 2, 4, 6, 8]\n"
     ]
    }
   ],
   "source": [
    "def smart_division(fun_):\n",
    "    def inner(x,y):\n",
    "        if y==0:\n",
    "            print(\"hiiii g\")\n",
    "        else:\n",
    "            print(\"helo..\")\n",
    "        return fun_(x,y)\n",
    "    return inner;\n",
    "\n",
    "def divide(a,b):\n",
    "    return a/b;\n",
    "divide=smart_division(divide)\n",
    "print(divide(1,2))\n",
    "\n",
    "\n",
    "\n",
    "stsr=\"python and datascience\"\n",
    "str=lambda s:s.swapcase()\n",
    "print(str(\"hi This\"))\n",
    "\n",
    "variable=[x for x in range(0,10) if x%2==0]\n",
    "print(variable)"
   ]
  }
 ],
 "metadata": {
  "kernelspec": {
   "display_name": "Python 3 (ipykernel)",
   "language": "python",
   "name": "python3"
  },
  "language_info": {
   "codemirror_mode": {
    "name": "ipython",
    "version": 3
   },
   "file_extension": ".py",
   "mimetype": "text/x-python",
   "name": "python",
   "nbconvert_exporter": "python",
   "pygments_lexer": "ipython3",
   "version": "3.9.7"
  }
 },
 "nbformat": 4,
 "nbformat_minor": 5
}
