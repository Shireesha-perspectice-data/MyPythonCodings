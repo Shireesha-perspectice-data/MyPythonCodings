{
 "cells": [
  {
   "cell_type": "markdown",
   "id": "54dfb1b9",
   "metadata": {},
   "source": [
    "# Q. Explain about the decorators, give me one example."
   ]
  },
  {
   "cell_type": "markdown",
   "id": "805c54eb",
   "metadata": {},
   "source": [
    "decotaror is the powerful tool in python. It allows to programmers to modify the behaviour of the anether  function or class. "
   ]
  },
  {
   "cell_type": "code",
   "execution_count": 11,
   "id": "870c37a8",
   "metadata": {},
   "outputs": [
    {
     "name": "stdout",
     "output_type": "stream",
     "text": [
      "not x value 5\n",
      "0.2\n"
     ]
    }
   ],
   "source": [
    "def smart_division(func_n):\n",
    "    def inner(x,y):\n",
    "        if y==0:\n",
    "            print (\"the x value is \",x)\n",
    "        else:\n",
    "            print(\"not x value\",y)\n",
    "        return func_n(x,y);\n",
    "    return inner;\n",
    "def divide(a,b):\n",
    "    return a/b;\n",
    "divide=smart_division(divide)\n",
    "print(divide(1,5))\n"
   ]
  },
  {
   "cell_type": "code",
   "execution_count": 16,
   "id": "374e6334",
   "metadata": {},
   "outputs": [
    {
     "ename": "TypeError",
     "evalue": "inner() missing 1 required positional argument: 'y'",
     "output_type": "error",
     "traceback": [
      "\u001b[1;31m---------------------------------------------------------------------------\u001b[0m",
      "\u001b[1;31mTypeError\u001b[0m                                 Traceback (most recent call last)",
      "\u001b[1;32m~\\AppData\\Local\\Temp/ipykernel_7252/687804316.py\u001b[0m in \u001b[0;36m<module>\u001b[1;34m\u001b[0m\n\u001b[0;32m      9\u001b[0m \u001b[1;33m\u001b[0m\u001b[0m\n\u001b[0;32m     10\u001b[0m \u001b[1;33m@\u001b[0m\u001b[0msmart_division\u001b[0m\u001b[1;33m(\u001b[0m\u001b[0mdivide\u001b[0m\u001b[1;33m)\u001b[0m\u001b[1;33m\u001b[0m\u001b[1;33m\u001b[0m\u001b[0m\n\u001b[1;32m---> 11\u001b[1;33m \u001b[1;32mdef\u001b[0m \u001b[0mdivide\u001b[0m\u001b[1;33m(\u001b[0m\u001b[0ma\u001b[0m\u001b[1;33m,\u001b[0m\u001b[0mb\u001b[0m\u001b[1;33m)\u001b[0m\u001b[1;33m:\u001b[0m\u001b[1;33m\u001b[0m\u001b[1;33m\u001b[0m\u001b[0m\n\u001b[0m\u001b[0;32m     12\u001b[0m     \u001b[1;32mreturn\u001b[0m \u001b[0ma\u001b[0m\u001b[1;33m/\u001b[0m\u001b[0mb\u001b[0m\u001b[1;33m;\u001b[0m\u001b[1;33m\u001b[0m\u001b[1;33m\u001b[0m\u001b[0m\n\u001b[0;32m     13\u001b[0m \u001b[1;31m#divide=smart_division(divide)\u001b[0m\u001b[1;33m\u001b[0m\u001b[1;33m\u001b[0m\u001b[0m\n",
      "\u001b[1;31mTypeError\u001b[0m: inner() missing 1 required positional argument: 'y'"
     ]
    }
   ],
   "source": [
    "def smart_division(fun_):\n",
    "    def inner(x,y):\n",
    "        if y==0:\n",
    "            print(\"hiiii g\")\n",
    "        else:\n",
    "            print(\"helo..\")\n",
    "        return fun_(x,y)\n",
    "    return inner;\n",
    "\n",
    "@smart_division(divide)\n",
    "def divide(a,b):\n",
    "    return a/b;\n",
    "#divide=smart_division(divide)\n",
    "print(divide(1,2))\n",
    "\n",
    "\n"
   ]
  }
 ],
 "metadata": {
  "kernelspec": {
   "display_name": "Python 3 (ipykernel)",
   "language": "python",
   "name": "python3"
  },
  "language_info": {
   "codemirror_mode": {
    "name": "ipython",
    "version": 3
   },
   "file_extension": ".py",
   "mimetype": "text/x-python",
   "name": "python",
   "nbconvert_exporter": "python",
   "pygments_lexer": "ipython3",
   "version": "3.9.7"
  }
 },
 "nbformat": 4,
 "nbformat_minor": 5
}
