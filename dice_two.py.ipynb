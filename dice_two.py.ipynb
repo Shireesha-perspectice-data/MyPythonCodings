{
 "cells": [
  {
   "cell_type": "markdown",
   "id": "95b3942c",
   "metadata": {},
   "source": [
    "# Q.Write a Progaram Two dice are equal to the 10"
   ]
  },
  {
   "cell_type": "code",
   "execution_count": 20,
   "id": "9efc4044",
   "metadata": {},
   "outputs": [],
   "source": [
    "import random as r"
   ]
  },
  {
   "cell_type": "code",
   "execution_count": 21,
   "id": "02aa964d",
   "metadata": {},
   "outputs": [
    {
     "name": "stdout",
     "output_type": "stream",
     "text": [
      "rolling the fist dice6\n",
      "rolling the second dice7\n",
      "to get  solution ,try again 6 7\n"
     ]
    }
   ],
   "source": [
    "dice1=int(input(\"rolling the fist dice\"))\n",
    "dice2=int(input(\"rolling the second dice\"))\n",
    "#import as random as r\n",
    "def r(add_dice1_2):\n",
    "#     dice1=int(input(\"rolling the fist dice\"))\n",
    "#     dice2=int(input(\"rolling the second dice\"))\n",
    "    add_dice1_2=dice1+dice2\n",
    "    if dice1 ==7 and dice2 == 7:\n",
    "        print(\"you are not currect throw the dice,please  start again :\",dice1,dice2)\n",
    "        \n",
    "    if add_dice1_2 == 10:\n",
    "        print(\"you are succes the rolling:\",dice1,dice2)\n",
    "#         for var in dice1:\n",
    "#             return var *2\n",
    "        if dice1 < add_dice1_2-6:\n",
    "            print(\"the given number:\",dice1)\n",
    "        elif dice1 <add_dice1_2-4:\n",
    "            print(\"the first dice1 is less than the sum of the rolling two dice substracted from 4:\",dice1,dice2)\n",
    "        elif dice1 >add_dice1_2-10:\n",
    "            print(\"to substacted from the sum of rolling two dices:\" ,dice1,dice2)\n",
    "        else:\n",
    "            print(\"to print anything\")\n",
    "    elif dice1 ==7 and dice2 == 7:\n",
    "        print(\"you are not currect throw the dice,please  start again :\",dice1,dice2)\n",
    "        \n",
    "    elif add_dice1_2 > 10 and dice1 < 7 and dice2  < 7:\n",
    "        print(\"sum of rolling dice values is greater than 10:\",add_dice1_2 ,dice1,dice2)\n",
    "    elif add_dice1_2 == 6 :#or add_dice1_2*2:\n",
    "        print(\"it is the very crutial step:\",dice1,dice2,add_dice1_2)\n",
    "    else:\n",
    "        print(\"to get  solution ,try again\",dice1,dice2)\n",
    "        \n",
    "        \n",
    "#r(8)  #here dice1 is 8 , and second random numbber we are taken any numer\n",
    "r(\"add_dice1_2:\"==dice1+dice2)"
   ]
  },
  {
   "cell_type": "code",
   "execution_count": 23,
   "id": "7a33db86",
   "metadata": {},
   "outputs": [
    {
     "name": "stdout",
     "output_type": "stream",
     "text": [
      "to get  solution ,try again 6 7\n"
     ]
    }
   ],
   "source": [
    "r(5)  # here above we are taken  dice1 is 5 "
   ]
  },
  {
   "cell_type": "code",
   "execution_count": 25,
   "id": "c0c6b222",
   "metadata": {},
   "outputs": [
    {
     "name": "stdout",
     "output_type": "stream",
     "text": [
      "to get  solution ,try again 6 7\n"
     ]
    }
   ],
   "source": [
    "r(10)"
   ]
  },
  {
   "cell_type": "code",
   "execution_count": 27,
   "id": "6a842694",
   "metadata": {},
   "outputs": [
    {
     "name": "stdout",
     "output_type": "stream",
     "text": [
      "to get  solution ,try again 6 7\n"
     ]
    }
   ],
   "source": [
    "r(12)"
   ]
  },
  {
   "cell_type": "code",
   "execution_count": 28,
   "id": "72c923c4",
   "metadata": {},
   "outputs": [
    {
     "name": "stdout",
     "output_type": "stream",
     "text": [
      "to get  solution ,try again 6 7\n"
     ]
    }
   ],
   "source": [
    "r(1)"
   ]
  },
  {
   "cell_type": "code",
   "execution_count": 29,
   "id": "57cb7edc",
   "metadata": {},
   "outputs": [
    {
     "name": "stdout",
     "output_type": "stream",
     "text": [
      "to get  solution ,try again 6 7\n"
     ]
    }
   ],
   "source": [
    "r(3)"
   ]
  },
  {
   "cell_type": "code",
   "execution_count": 31,
   "id": "1998331c",
   "metadata": {},
   "outputs": [
    {
     "name": "stdout",
     "output_type": "stream",
     "text": [
      "to get  solution ,try again 6 7\n"
     ]
    }
   ],
   "source": [
    "r(6)"
   ]
  }
 ],
 "metadata": {
  "kernelspec": {
   "display_name": "Python 3 (ipykernel)",
   "language": "python",
   "name": "python3"
  },
  "language_info": {
   "codemirror_mode": {
    "name": "ipython",
    "version": 3
   },
   "file_extension": ".py",
   "mimetype": "text/x-python",
   "name": "python",
   "nbconvert_exporter": "python",
   "pygments_lexer": "ipython3",
   "version": "3.9.7"
  }
 },
 "nbformat": 4,
 "nbformat_minor": 5
}
