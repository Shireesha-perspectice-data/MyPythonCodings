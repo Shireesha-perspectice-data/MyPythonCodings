{
 "cells": [
  {
   "cell_type": "markdown",
   "id": "32de8e57",
   "metadata": {},
   "source": [
    "# Q.  Write the code by using function "
   ]
  },
  {
   "cell_type": "code",
   "execution_count": 8,
   "id": "7aedc826",
   "metadata": {},
   "outputs": [
    {
     "name": "stdout",
     "output_type": "stream",
     "text": [
      "[12]\n",
      "10 10 10 10 None\n",
      "[56, 45, 34, 23, 12]\n",
      "ecneicSataD dnA nohtyP\n",
      "91\n",
      "91.5\n",
      "(14, 48, 48)\n"
     ]
    }
   ],
   "source": [
    "def calculation(a,b):\n",
    "    add=a+b\n",
    "    multi=a*b\n",
    "    div=a*b\n",
    "    return add,multi,div\n",
    "def number(x):    # here we take the out of 600 marks to get in 546 marks \n",
    "    marks=x/600*100  # here to get an percentage of your graduation\n",
    "    return marks\n",
    "def max_val(x): # the maximum value of given list \n",
    "    p=max(x)\n",
    "    return p\n",
    "def reverse(lst):  # here we are use reverse order of the list\n",
    "    new_list=lst[::-1]\n",
    "    return new_list\n",
    "def add_new_lst(list1,list2):    # here we use the zip file to add two list \n",
    "    for i ,j in zip (list1,list2):\n",
    "        print(i+j,end=' ')\n",
    "def fun(num):    # add the new element/number to the given list \n",
    "    res=[]\n",
    "    for i in num:\n",
    "        res.append(i+i)  # here to add number by using of append() method.append()method is used to  \n",
    "        return res\n",
    "print(fun(num=[6]))\n",
    "\n",
    "print(add_new_lst([1,2,3,4],[9,8,7,6]))\n",
    "\n",
    "print(reverse([12,23,34,45,56]))\n",
    "print(reverse(\"Python And DataScience\"))\n",
    "\n",
    "print(max_val([1,2,3,45,67,91]))\n",
    "\n",
    "print(number(549))\n",
    "print(calculation(8,6))\n",
    "        "
   ]
  }
 ],
 "metadata": {
  "kernelspec": {
   "display_name": "Python 3 (ipykernel)",
   "language": "python",
   "name": "python3"
  },
  "language_info": {
   "codemirror_mode": {
    "name": "ipython",
    "version": 3
   },
   "file_extension": ".py",
   "mimetype": "text/x-python",
   "name": "python",
   "nbconvert_exporter": "python",
   "pygments_lexer": "ipython3",
   "version": "3.9.7"
  }
 },
 "nbformat": 4,
 "nbformat_minor": 5
}
