{
 "cells": [
  {
   "cell_type": "markdown",
   "id": "f7fb1c62",
   "metadata": {},
   "source": [
    "# Q. Write a program of the single inheritance"
   ]
  },
  {
   "cell_type": "markdown",
   "id": "bc22da3b",
   "metadata": {},
   "source": [
    "        Inheritance is a concept in object oriented programming where existing classes can be modified by a new class.here existing class is a Base class and new class is child/derived class.the dirived class inherits the base class."
   ]
  },
  {
   "cell_type": "code",
   "execution_count": 2,
   "id": "ce2f8507",
   "metadata": {},
   "outputs": [
    {
     "name": "stdout",
     "output_type": "stream",
     "text": [
      "inheritance \n"
     ]
    },
    {
     "data": {
      "text/plain": [
       "23"
      ]
     },
     "execution_count": 2,
     "metadata": {},
     "output_type": "execute_result"
    }
   ],
   "source": [
    "class Animal:\n",
    "    def __init__(self):\n",
    "        self.x=23;   #instance variable/initialize attribute of a class\n",
    "        print(\"inheritance \")\n",
    "    def birds(self):\n",
    "        return True;\n",
    "class lion(Animal):       #derived class lion inherits the base class Animal\n",
    "    def sparrows(self):\n",
    "        return True\n",
    "obj=Animal()  #constructor is invoke when object is created and its allows to intialize the attribute of class.\n",
    "obj.x      #instances of  variable x by through the obj reference variable obj\n",
    "\n",
    "\n",
    "    "
   ]
  }
 ],
 "metadata": {
  "kernelspec": {
   "display_name": "Python 3 (ipykernel)",
   "language": "python",
   "name": "python3"
  },
  "language_info": {
   "codemirror_mode": {
    "name": "ipython",
    "version": 3
   },
   "file_extension": ".py",
   "mimetype": "text/x-python",
   "name": "python",
   "nbconvert_exporter": "python",
   "pygments_lexer": "ipython3",
   "version": "3.9.7"
  }
 },
 "nbformat": 4,
 "nbformat_minor": 5
}
