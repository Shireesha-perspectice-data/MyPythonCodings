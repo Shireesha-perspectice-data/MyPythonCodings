{
 "cells": [
  {
   "cell_type": "markdown",
   "id": "90a1e5ad",
   "metadata": {},
   "source": [
    "# Q. Explain about multiple inheritance,with example."
   ]
  },
  {
   "cell_type": "markdown",
   "id": "6f930447",
   "metadata": {},
   "source": [
    "    A Class can be derived from more than one base class in python .this called \"Multiple Inheritance\" \n",
    "    In multiple Inheritance,the features of all the base classes are inherited into the derived Class\n",
    "    here multiple inheritance is that two or more classes are inherited the other class "
   ]
  },
  {
   "cell_type": "code",
   "execution_count": 20,
   "id": "c2513d48",
   "metadata": {},
   "outputs": [
    {
     "name": "stdout",
     "output_type": "stream",
     "text": [
      "the Bar\n",
      "hiiiii every body\n",
      "Hub class constructor\n",
      "party\n",
      "party\n"
     ]
    },
    {
     "data": {
      "text/plain": [
       "'\\nwhen object is created then,it invoke the Bar class next is Pub class constructor,after Hall next Hub then \\nfinaly constructor is invoke. \\nMultiple Inheritance is an Inheritance type where a class inherits from more than one base class\\n'"
      ]
     },
     "execution_count": 20,
     "metadata": {},
     "output_type": "execute_result"
    }
   ],
   "source": [
    "class Bar:\n",
    "    print(\"the Bar\")\n",
    "    def __init__(self):  #constructor is created with self key word.\n",
    "         self.x1=23;\n",
    "         print(\"party\")\n",
    "    def Fun(self):   #Fun is method \n",
    "        return \"the function\"\n",
    "        \n",
    "class Hall:   #Hall class constructor is invoke when object is created.\n",
    "    print(\"hiiiii every body\")\n",
    "    def __init__(self):\n",
    "        self.x2=34;\n",
    "    def fun2(self):\n",
    "        return(\"the fun2\")\n",
    "    \n",
    "class Hub(Bar,Hall):   #here Hub class constructor is invoke when object is created.derived class Hub inherits the Base class Hall and Pub class.it's called as Multiple Inheritance.\n",
    "    x=3; #static variable #above is that multiple constructor\n",
    "    print(\"Hub class constructor\")\n",
    "    def Wish(self):\n",
    "        x=34\n",
    "        return (\"in Wish\")\n",
    "        return x  #not execute.\n",
    "    \n",
    "obj=Hub()\n",
    "        \n",
    "#j=Bar()#instantiate the Bar() object\n",
    "#print(j.Fun()) #to print Fun method is invoke by through the reference object \n",
    "#print(j.x1)  #to print instances variable x1\n",
    "'''\n",
    "when object is created then,it invoke the Bar class next is Pub class constructor,after Hall next Hub then \n",
    "finaly constructor is invoke. \n",
    "Multiple Inheritance is an Inheritance type where a class inherits from more than one base class\n",
    "'''\n"
   ]
  }
 ],
 "metadata": {
  "kernelspec": {
   "display_name": "Python 3 (ipykernel)",
   "language": "python",
   "name": "python3"
  },
  "language_info": {
   "codemirror_mode": {
    "name": "ipython",
    "version": 3
   },
   "file_extension": ".py",
   "mimetype": "text/x-python",
   "name": "python",
   "nbconvert_exporter": "python",
   "pygments_lexer": "ipython3",
   "version": "3.9.7"
  }
 },
 "nbformat": 4,
 "nbformat_minor": 5
}
