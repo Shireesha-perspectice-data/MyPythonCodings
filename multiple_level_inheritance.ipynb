{
 "cells": [
  {
   "cell_type": "markdown",
   "id": "4f1c3e0b",
   "metadata": {},
   "source": [
    "# Q. Write a program multiple-level Inheritance "
   ]
  },
  {
   "cell_type": "code",
   "execution_count": 3,
   "id": "58f320a2",
   "metadata": {},
   "outputs": [
    {
     "name": "stdout",
     "output_type": "stream",
     "text": [
      "here derived class Moter Inherits the base class Vehicle \n",
      "here derived class Maruthi inherits the base class Moter \n",
      "constructor\n",
      "34\n"
     ]
    }
   ],
   "source": [
    "class Vehicle:     #created a class Vehicle\n",
    "    def __init__(self):\n",
    "        self.x=34; #instance variable /initialising the instance variable\n",
    "        print(\"constructor\")  #From Class ,we construct instances,here instance is a specific Object created from the particular Class      \n",
    "    def Car(self):  #Car funnction define with self keyword\n",
    "        print(\"In Car\")  #print the string statement\n",
    "\n",
    "class Moter(Vehicle):  #Moter class is inherite the Vehicle class \n",
    "    print(\"here derived class Moter Inherits the base class Vehicle \")\n",
    "    def Bike(self):     #\n",
    "        print(\"the bike\")\n",
    "        \n",
    "class Maruthi(Moter):   #here derived class Maruthii inherits the base class Moter.\n",
    "    print(\"here derived class Maruthi inherits the base class Moter \")\n",
    "    def Cycle(self):\n",
    "        print(\"Cycle\")\n",
    "b=Vehicle()  # instantiate the class object /creat a Vehicle() object by referrence variable b#instantiate the class\n",
    "print(b.x)   #to print instance variable x/to print instances variable x by through the Vehicle object \n",
    "\n",
    "# here first constructor invoke by the object is created.after that Maruthi class inherits the Vehocle class\n",
    "#a derived class inherits another derived class."
   ]
  }
 ],
 "metadata": {
  "kernelspec": {
   "display_name": "Python 3 (ipykernel)",
   "language": "python",
   "name": "python3"
  },
  "language_info": {
   "codemirror_mode": {
    "name": "ipython",
    "version": 3
   },
   "file_extension": ".py",
   "mimetype": "text/x-python",
   "name": "python",
   "nbconvert_exporter": "python",
   "pygments_lexer": "ipython3",
   "version": "3.9.7"
  }
 },
 "nbformat": 4,
 "nbformat_minor": 5
}
