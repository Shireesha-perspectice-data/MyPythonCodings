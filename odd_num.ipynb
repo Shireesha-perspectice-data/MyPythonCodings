{
 "cells": [
  {
   "cell_type": "markdown",
   "id": "cb699ddf",
   "metadata": {},
   "source": [
    "# 6Q. write a pgm  prime numbers\n"
   ]
  },
  {
   "cell_type": "code",
   "execution_count": 1,
   "id": "33413637",
   "metadata": {},
   "outputs": [],
   "source": [
    "def number(n,m):\n",
    "    for num in range(n,m):\n",
    "        if num>1:\n",
    "            for j in range(1,num):\n",
    "                if num%j==0:\n",
    "                    break;\n",
    "                #else:\n",
    "                 #   print(\"\")\n",
    "                    \n",
    "            else:\n",
    "                    print(num)\n",
    "        \n",
    "                    \n",
    "number(1,20)"
   ]
  },
  {
   "cell_type": "code",
   "execution_count": null,
   "id": "e159a099",
   "metadata": {},
   "outputs": [],
   "source": []
  }
 ],
 "metadata": {
  "kernelspec": {
   "display_name": "Python 3 (ipykernel)",
   "language": "python",
   "name": "python3"
  },
  "language_info": {
   "codemirror_mode": {
    "name": "ipython",
    "version": 3
   },
   "file_extension": ".py",
   "mimetype": "text/x-python",
   "name": "python",
   "nbconvert_exporter": "python",
   "pygments_lexer": "ipython3",
   "version": "3.9.7"
  }
 },
 "nbformat": 4,
 "nbformat_minor": 5
}
