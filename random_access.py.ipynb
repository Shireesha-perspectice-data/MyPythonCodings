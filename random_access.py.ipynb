{
 "cells": [
  {
   "cell_type": "markdown",
   "id": "ce79900c",
   "metadata": {},
   "source": [
    "# Q. Write a program randomly access the any charactor or digit. "
   ]
  },
  {
   "cell_type": "code",
   "execution_count": 1,
   "id": "f6569a33",
   "metadata": {},
   "outputs": [],
   "source": [
    "import random as r"
   ]
  },
  {
   "cell_type": "code",
   "execution_count": 2,
   "id": "668643ef",
   "metadata": {},
   "outputs": [
    {
     "data": {
      "text/plain": [
       "9"
      ]
     },
     "execution_count": 2,
     "metadata": {},
     "output_type": "execute_result"
    }
   ],
   "source": [
    "def fun_(sets):\n",
    "    return r.choice(sets)\n",
    "fun_([1,2,3,9,7,5])"
   ]
  },
  {
   "cell_type": "code",
   "execution_count": 43,
   "id": "67b5c69d",
   "metadata": {},
   "outputs": [
    {
     "data": {
      "text/plain": [
       "'e'"
      ]
     },
     "execution_count": 43,
     "metadata": {},
     "output_type": "execute_result"
    }
   ],
   "source": [
    "fun_(\"DataScience\")#here we are taken string in that string any charactor is taken by randomly"
   ]
  },
  {
   "cell_type": "code",
   "execution_count": 11,
   "id": "50ed1cf4",
   "metadata": {},
   "outputs": [
    {
     "data": {
      "text/plain": [
       "4"
      ]
     },
     "execution_count": 11,
     "metadata": {},
     "output_type": "execute_result"
    }
   ],
   "source": [
    "fun_((1,2,34,4))  #here we are taken tuple"
   ]
  },
  {
   "cell_type": "code",
   "execution_count": 20,
   "id": "d109263d",
   "metadata": {},
   "outputs": [
    {
     "data": {
      "text/plain": [
       "34"
      ]
     },
     "execution_count": 20,
     "metadata": {},
     "output_type": "execute_result"
    }
   ],
   "source": [
    "fun_([1,2,34])  # it consider as list "
   ]
  },
  {
   "cell_type": "code",
   "execution_count": 42,
   "id": "964e44ef",
   "metadata": {},
   "outputs": [
    {
     "data": {
      "text/plain": [
       "','"
      ]
     },
     "execution_count": 42,
     "metadata": {},
     "output_type": "execute_result"
    }
   ],
   "source": [
    "fun_('1,2,3 *& ,4,4,9')  # here we are consider any charactor or digit and space also."
   ]
  }
 ],
 "metadata": {
  "kernelspec": {
   "display_name": "Python 3 (ipykernel)",
   "language": "python",
   "name": "python3"
  },
  "language_info": {
   "codemirror_mode": {
    "name": "ipython",
    "version": 3
   },
   "file_extension": ".py",
   "mimetype": "text/x-python",
   "name": "python",
   "nbconvert_exporter": "python",
   "pygments_lexer": "ipython3",
   "version": "3.9.7"
  }
 },
 "nbformat": 4,
 "nbformat_minor": 5
}
