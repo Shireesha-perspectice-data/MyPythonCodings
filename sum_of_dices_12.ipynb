{
 "cells": [
  {
   "cell_type": "markdown",
   "id": "0f080c63",
   "metadata": {},
   "source": [
    "# Q. To find the sum of two dice face  are equal to 12."
   ]
  },
  {
   "cell_type": "code",
   "execution_count": 6,
   "id": "6f37f2c4",
   "metadata": {},
   "outputs": [
    {
     "name": "stdout",
     "output_type": "stream",
     "text": [
      "fist dice6\n",
      "second dice6\n",
      "the rolling of two dices to get face values: 6 6\n",
      "You are the game winner 12\n",
      "to getting a dice1 is less than or equal to the 6: 6 6\n"
     ]
    }
   ],
   "source": [
    "dice1=int(input(\"fist dice\"))\n",
    "dice2=int(input(\"second dice\"))\n",
    "def dice_r(dices):\n",
    "    print(\"the rolling of two dices to get face values:\",dice1,dice2)\n",
    "    sum_dice=dice1+dice2;\n",
    "    if sum_dice ==12:\n",
    "        print(\"You are the game winner\",sum_dice)\n",
    "        if dice1 <= 6:    #  dice1+dice2=10:\n",
    "            print(\"to getting a dice1 is less than or equal to the 6:\",dice1,dice2)\n",
    "        elif sum_dice > 10 and dice1 < 7:\n",
    "            print(\"the sum of 2 dice is > 10 and dice1 is less than 7 \")\n",
    "        elif sum_dice >= 5 or dice2 <=10:\n",
    "            print(\"the dice executed\")\n",
    "        else:\n",
    "            print(\";;\")\n",
    "    else:\n",
    "        print(\"the sum of twoo dice are not equal to the 12\")\n",
    "dice_r(\"sum_dice\"== dice1+dice2)\n",
    "            "
   ]
  },
  {
   "cell_type": "code",
   "execution_count": null,
   "id": "b2d5856f",
   "metadata": {},
   "outputs": [],
   "source": []
  },
  {
   "cell_type": "code",
   "execution_count": null,
   "id": "344eca48",
   "metadata": {},
   "outputs": [],
   "source": []
  }
 ],
 "metadata": {
  "kernelspec": {
   "display_name": "Python 3 (ipykernel)",
   "language": "python",
   "name": "python3"
  },
  "language_info": {
   "codemirror_mode": {
    "name": "ipython",
    "version": 3
   },
   "file_extension": ".py",
   "mimetype": "text/x-python",
   "name": "python",
   "nbconvert_exporter": "python",
   "pygments_lexer": "ipython3",
   "version": "3.9.7"
  }
 },
 "nbformat": 4,
 "nbformat_minor": 5
}
