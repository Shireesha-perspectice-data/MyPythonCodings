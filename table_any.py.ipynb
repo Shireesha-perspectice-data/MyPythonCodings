{
 "cells": [
  {
   "cell_type": "markdown",
   "id": "b82f73f7",
   "metadata": {},
   "source": [
    "# 4Q. write program if any one  table\n"
   ]
  },
  {
   "cell_type": "code",
   "execution_count": 4,
   "id": "0d1db45e",
   "metadata": {},
   "outputs": [
    {
     "name": "stdout",
     "output_type": "stream",
     "text": [
      "which one table we want:1\n",
      "1 x 1=1\n",
      "\n",
      "1 x 2=2\n",
      "\n",
      "1 x 3=3\n",
      "\n",
      "1 x 4=4\n",
      "\n",
      "1 x 5=5\n",
      "\n",
      "1 x 6=6\n",
      "\n",
      "1 x 7=7\n",
      "\n",
      "1 x 8=8\n",
      "\n",
      "1 x 9=9\n",
      "\n",
      "1 x 10=10\n",
      "\n"
     ]
    }
   ],
   "source": [
    "i=1;\n",
    "table=int(input(\"which one table we want:\"))\n",
    "while i<=10:\n",
    "    print(\"%d x %d=%d\\n\"%(table,i,table*i))\n",
    "    i=i+1"
   ]
  },
  {
   "cell_type": "code",
   "execution_count": null,
   "id": "0e7a69db",
   "metadata": {},
   "outputs": [],
   "source": []
  }
 ],
 "metadata": {
  "kernelspec": {
   "display_name": "Python 3 (ipykernel)",
   "language": "python",
   "name": "python3"
  },
  "language_info": {
   "codemirror_mode": {
    "name": "ipython",
    "version": 3
   },
   "file_extension": ".py",
   "mimetype": "text/x-python",
   "name": "python",
   "nbconvert_exporter": "python",
   "pygments_lexer": "ipython3",
   "version": "3.9.7"
  }
 },
 "nbformat": 4,
 "nbformat_minor": 5
}
