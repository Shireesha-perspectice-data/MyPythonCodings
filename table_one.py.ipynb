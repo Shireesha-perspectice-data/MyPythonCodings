{
 "cells": [
  {
   "cell_type": "markdown",
   "id": "b8484e3f",
   "metadata": {},
   "source": [
    "# Q4.Write a program if any table randomly"
   ]
  },
  {
   "cell_type": "code",
   "execution_count": 2,
   "id": "b4c22373",
   "metadata": {},
   "outputs": [
    {
     "name": "stdout",
     "output_type": "stream",
     "text": [
      "which one table we want:9\n",
      "9 x 1=9\n",
      "\n",
      "9 x 2=18\n",
      "\n",
      "9 x 3=27\n",
      "\n",
      "9 x 4=36\n",
      "\n",
      "9 x 5=45\n",
      "\n",
      "9 x 6=54\n",
      "\n",
      "9 x 7=63\n",
      "\n",
      "9 x 8=72\n",
      "\n",
      "9 x 9=81\n",
      "\n",
      "9 x 10=90\n",
      "\n"
     ]
    }
   ],
   "source": [
    "#write program if any table\n",
    "i=1;\n",
    "table=int(input(\"which one table we want:\"))\n",
    "while i<=10:\n",
    "    print(\"%d x %d=%d\\n\"%(table,i,table*i))\n",
    "    i=i+1"
   ]
  },
  {
   "cell_type": "code",
   "execution_count": null,
   "id": "33cc322d",
   "metadata": {},
   "outputs": [],
   "source": []
  }
 ],
 "metadata": {
  "kernelspec": {
   "display_name": "Python 3 (ipykernel)",
   "language": "python",
   "name": "python3"
  },
  "language_info": {
   "codemirror_mode": {
    "name": "ipython",
    "version": 3
   },
   "file_extension": ".py",
   "mimetype": "text/x-python",
   "name": "python",
   "nbconvert_exporter": "python",
   "pygments_lexer": "ipython3",
   "version": "3.9.7"
  }
 },
 "nbformat": 4,
 "nbformat_minor": 5
}
